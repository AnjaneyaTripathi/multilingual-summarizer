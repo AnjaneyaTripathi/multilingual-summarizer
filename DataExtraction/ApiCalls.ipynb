{
 "cells": [
  {
   "cell_type": "code",
   "execution_count": 5,
   "id": "be91cb45",
   "metadata": {},
   "outputs": [
    {
     "name": "stdout",
     "output_type": "stream",
     "text": [
      "Collecting nbimporterNote: you may need to restart the kernel to use updated packages.\n",
      "  Downloading nbimporter-0.3.4-py3-none-any.whl (4.9 kB)\n",
      "Installing collected packages: nbimporter\n",
      "Successfully installed nbimporter-0.3.4\n",
      "\n"
     ]
    }
   ],
   "source": [
    "pip install nbimporter"
   ]
  },
  {
   "cell_type": "code",
   "execution_count": 5,
   "id": "8955719f",
   "metadata": {},
   "outputs": [],
   "source": [
    "import nbimporter\n",
    "import Twitter as Twitter"
   ]
  },
  {
   "cell_type": "code",
   "execution_count": 6,
   "id": "7bd51096",
   "metadata": {},
   "outputs": [],
   "source": [
    "def writeToCsv(data):\n",
    "    header = ['topic', 'title', 'text', 'author', 'source', 'channel', 'language']\n",
    "    with open('data.csv', 'w', encoding='UTF8') as f:\n",
    "        writer = csv.writer(f)\n",
    "        writer.writerow(header)\n",
    "        for i in range(len(data)):\n",
    "            writer.writerow(data[i])"
   ]
  },
  {
   "cell_type": "code",
   "execution_count": 10,
   "id": "27d6b7a1",
   "metadata": {},
   "outputs": [],
   "source": [
    "def appendData(temp_data, data):\n",
    "    for datum in temp_data:\n",
    "        data.append(datum)"
   ]
  },
  {
   "cell_type": "code",
   "execution_count": 7,
   "id": "a3e62e08",
   "metadata": {},
   "outputs": [
    {
     "name": "stdout",
     "output_type": "stream",
     "text": [
      "https://api.twitter.com/2/tweets/search/recent?query=bitcoin lang:en  -is:retweet&max_results=10&expansions=author_id&tweet.fields=text,author_id,created_at,lang&user.fields=name,username\n",
      "200\n",
      "https://api.twitter.com/2/tweets/search/recent?query=cryptography lang:en  -is:retweet&max_results=10&expansions=author_id&tweet.fields=text,author_id,created_at,lang&user.fields=name,username\n",
      "200\n",
      "https://api.twitter.com/2/tweets/search/recent?query=dogecoin lang:en  -is:retweet&max_results=10&expansions=author_id&tweet.fields=text,author_id,created_at,lang&user.fields=name,username\n",
      "200\n"
     ]
    }
   ],
   "source": [
    "queries = [{\"name\":'bitcoin', \"number\": 10}, {\"name\":'cryptography', \"number\": 10}, {\"name\":'dogecoin', \"number\": 10}]\n",
    "fdata = []\n",
    "tweets = Twitter.getTwitterData(queries)\n",
    "appendData(tweets, fdata)\n",
    "\n",
    "# Call functions for other so"
   ]
  },
  {
   "cell_type": "code",
   "execution_count": null,
   "id": "1cfa65f3",
   "metadata": {},
   "outputs": [],
   "source": []
  }
 ],
 "metadata": {
  "kernelspec": {
   "display_name": "Python 3 (ipykernel)",
   "language": "python",
   "name": "python3"
  },
  "language_info": {
   "codemirror_mode": {
    "name": "ipython",
    "version": 3
   },
   "file_extension": ".py",
   "mimetype": "text/x-python",
   "name": "python",
   "nbconvert_exporter": "python",
   "pygments_lexer": "ipython3",
   "version": "3.8.3"
  }
 },
 "nbformat": 4,
 "nbformat_minor": 5
}
