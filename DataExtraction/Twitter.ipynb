{
 "cells": [
  {
   "cell_type": "code",
   "execution_count": null,
   "id": "11c707d7",
   "metadata": {},
   "outputs": [],
   "source": [
    "pip install requests"
   ]
  },
  {
   "cell_type": "code",
   "execution_count": 90,
   "id": "e29a2230",
   "metadata": {},
   "outputs": [],
   "source": [
    "import os\n",
    "import requests\n",
    "import json\n",
    "import csv  "
   ]
  },
  {
   "cell_type": "code",
   "execution_count": 85,
   "id": "885fc706",
   "metadata": {},
   "outputs": [],
   "source": [
    "def getBearerToken():\n",
    "    return os.environ.get(\"BEARER_TOKEN\")"
   ]
  },
  {
   "cell_type": "code",
   "execution_count": 87,
   "id": "3bd99a22",
   "metadata": {},
   "outputs": [],
   "source": [
    "def getTwitterData(queries):\n",
    "    newsdata=[]\n",
    "    bearer_token = getBearerToken()\n",
    "    for query in queries:\n",
    "        json_response = search_twitter(query=query['name'], max_results=query['number'], bearer_token = bearer_token)\n",
    "        data = json_response['data']\n",
    "        users = json_response['includes']['users']\n",
    "        for i in range(len(data)):\n",
    "            text = data[i]['text']\n",
    "            lang = data[i]['lang']\n",
    "            username = ''\n",
    "            for user in users:\n",
    "                if user['id'] == data[i]['author_id']:\n",
    "                    username = user['name']\n",
    "            row = [query['name'],query['name'], text, username, 'Twitter', 'Twitter', lang]\n",
    "            newsdata.append(row)\n",
    "    return newsdata"
   ]
  },
  {
   "cell_type": "code",
   "execution_count": 84,
   "id": "cf53c11c",
   "metadata": {},
   "outputs": [],
   "source": [
    "def search_twitter(query, max_results, bearer_token, language = 'en'):\n",
    "    headers = {\"Authorization\": \"Bearer {}\".format(bearer_token)}\n",
    "    query = query + ' lang:en '\n",
    "    url = \"https://api.twitter.com/2/tweets/search/recent?query={} -is:retweet&max_results={}&expansions=author_id&tweet.fields=text,author_id,created_at,lang&user.fields=name,username\".format(query, max_results)\n",
    "    print(url)\n",
    "    response = requests.request(\"GET\", url, headers=headers)\n",
    "\n",
    "    print(response.status_code)\n",
    "\n",
    "    if response.status_code != 200:\n",
    "        raise Exception(response.status_code, response.text)\n",
    "    return response.json()"
   ]
  },
  {
   "cell_type": "code",
   "execution_count": 81,
   "id": "abd3bb4b",
   "metadata": {},
   "outputs": [
    {
     "name": "stdout",
     "output_type": "stream",
     "text": [
      "https://api.twitter.com/2/tweets/search/recent?query=bitcoin lang:en  -is:retweet&max_results=10&expansions=author_id&tweet.fields=text,author_id,created_at,lang&user.fields=name,username\n",
      "200\n",
      "https://api.twitter.com/2/tweets/search/recent?query=cryptography lang:en  -is:retweet&max_results=10&expansions=author_id&tweet.fields=text,author_id,created_at,lang&user.fields=name,username\n",
      "200\n",
      "https://api.twitter.com/2/tweets/search/recent?query=dogecoin lang:en  -is:retweet&max_results=10&expansions=author_id&tweet.fields=text,author_id,created_at,lang&user.fields=name,username\n",
      "200\n"
     ]
    }
   ],
   "source": []
  },
  {
   "cell_type": "code",
   "execution_count": null,
   "id": "d6390974",
   "metadata": {},
   "outputs": [],
   "source": []
  }
 ],
 "metadata": {
  "kernelspec": {
   "display_name": "Python 3 (ipykernel)",
   "language": "python",
   "name": "python3"
  },
  "language_info": {
   "codemirror_mode": {
    "name": "ipython",
    "version": 3
   },
   "file_extension": ".py",
   "mimetype": "text/x-python",
   "name": "python",
   "nbconvert_exporter": "python",
   "pygments_lexer": "ipython3",
   "version": "3.8.3"
  }
 },
 "nbformat": 4,
 "nbformat_minor": 5
}
