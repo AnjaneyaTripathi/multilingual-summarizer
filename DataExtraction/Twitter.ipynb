{
 "cells": [
  {
   "cell_type": "code",
   "execution_count": 14,
   "id": "885fc706",
   "metadata": {},
   "outputs": [
    {
     "ename": "NameError",
     "evalue": "name 'bearer_token' is not defined",
     "output_type": "error",
     "traceback": [
      "\u001b[1;31m---------------------------------------------------------------------------\u001b[0m",
      "\u001b[1;31mNameError\u001b[0m                                 Traceback (most recent call last)",
      "\u001b[1;32m~\\AppData\\Local\\Temp/ipykernel_99084/266604090.py\u001b[0m in \u001b[0;36m<module>\u001b[1;34m\u001b[0m\n\u001b[0;32m      1\u001b[0m \u001b[1;32mimport\u001b[0m \u001b[0mos\u001b[0m\u001b[1;33m\u001b[0m\u001b[1;33m\u001b[0m\u001b[0m\n\u001b[0;32m      2\u001b[0m \u001b[0mBEARER_TOKEN\u001b[0m \u001b[1;33m=\u001b[0m \u001b[0mos\u001b[0m\u001b[1;33m.\u001b[0m\u001b[0menviron\u001b[0m\u001b[1;33m.\u001b[0m\u001b[0mget\u001b[0m\u001b[1;33m(\u001b[0m\u001b[1;34m\"BEARER_TOKEN\"\u001b[0m\u001b[1;33m)\u001b[0m\u001b[1;33m\u001b[0m\u001b[1;33m\u001b[0m\u001b[0m\n\u001b[1;32m----> 3\u001b[1;33m \u001b[0mprint\u001b[0m\u001b[1;33m(\u001b[0m\u001b[0mbearer_token\u001b[0m\u001b[1;33m)\u001b[0m\u001b[1;33m\u001b[0m\u001b[1;33m\u001b[0m\u001b[0m\n\u001b[0m",
      "\u001b[1;31mNameError\u001b[0m: name 'bearer_token' is not defined"
     ]
    }
   ],
   "source": [
    "import os\n",
    "BEARER_TOKEN = os.environ.get(\"BEARER_TOKEN\")\n",
    "print(bearer_token)"
   ]
  },
  {
   "cell_type": "code",
   "execution_count": 58,
   "id": "e29a2230",
   "metadata": {},
   "outputs": [],
   "source": [
    "import requests\n",
    "import json\n",
    "import csv  "
   ]
  },
  {
   "cell_type": "code",
   "execution_count": 76,
   "id": "2195e99a",
   "metadata": {},
   "outputs": [],
   "source": [
    "def writeToCsv(data):\n",
    "    header = ['topic', 'title', 'text', 'author', 'source', 'channel', 'language']\n",
    "    with open('data.csv', 'w', encoding='UTF8') as f:\n",
    "        writer = csv.writer(f)\n",
    "        writer.writerow(header)\n",
    "        for i in range(len(data)):\n",
    "            writer.writerow(data[i])"
   ]
  },
  {
   "cell_type": "code",
   "execution_count": 78,
   "id": "3bd99a22",
   "metadata": {},
   "outputs": [],
   "source": [
    "def getTwitterData(queries):\n",
    "    newsdata=[]\n",
    "    for query in queries:\n",
    "        json_response = search_twitter(query=query['name'], max_results=query['number'], bearer_token=BEARER_TOKEN)\n",
    "        data = json_response['data']\n",
    "        users = json_response['includes']['users']\n",
    "        for i in range(len(data)):\n",
    "            text = data[i]['text']\n",
    "            lang = data[i]['lang']\n",
    "            username = ''\n",
    "            for user in users:\n",
    "                if user['id'] == data[i]['author_id']:\n",
    "                    username = user['name']\n",
    "            row = [query['name'],query['name'], text, username, 'Twitter', 'Twitter', lang]\n",
    "            newsdata.append(row)\n",
    "    writeToCsv(newsdata)"
   ]
  },
  {
   "cell_type": "code",
   "execution_count": 63,
   "id": "cf53c11c",
   "metadata": {},
   "outputs": [],
   "source": [
    "def search_twitter(query, max_results, bearer_token, language = 'en'):\n",
    "    headers = {\"Authorization\": \"Bearer {}\".format(bearer_token)}\n",
    "    query = query + ' lang:en '\n",
    "    url = \"https://api.twitter.com/2/tweets/search/recent?query={} -is:retweet&max_results={}&expansions=author_id&tweet.fields=text,author_id,created_at,lang&user.fields=name,username\".format(query, max_results)\n",
    "    print(url)\n",
    "    response = requests.request(\"GET\", url, headers=headers)\n",
    "\n",
    "    print(response.status_code)\n",
    "\n",
    "    if response.status_code != 200:\n",
    "        raise Exception(response.status_code, response.text)\n",
    "    return response.json()"
   ]
  },
  {
   "cell_type": "code",
   "execution_count": 81,
   "id": "abd3bb4b",
   "metadata": {},
   "outputs": [
    {
     "name": "stdout",
     "output_type": "stream",
     "text": [
      "https://api.twitter.com/2/tweets/search/recent?query=bitcoin lang:en  -is:retweet&max_results=10&expansions=author_id&tweet.fields=text,author_id,created_at,lang&user.fields=name,username\n",
      "200\n",
      "https://api.twitter.com/2/tweets/search/recent?query=cryptography lang:en  -is:retweet&max_results=10&expansions=author_id&tweet.fields=text,author_id,created_at,lang&user.fields=name,username\n",
      "200\n",
      "https://api.twitter.com/2/tweets/search/recent?query=dogecoin lang:en  -is:retweet&max_results=10&expansions=author_id&tweet.fields=text,author_id,created_at,lang&user.fields=name,username\n",
      "200\n"
     ]
    }
   ],
   "source": [
    "queries = [{\"name\":'bitcoin', \"number\": 10}, {\"name\":'cryptography', \"number\": 10}, {\"name\":'dogecoin', \"number\": 10}]\n",
    "# queries = [{\"name\":'cryptography', \"number\": 10}]\n",
    "getTwitterData(queries)"
   ]
  },
  {
   "cell_type": "code",
   "execution_count": null,
   "id": "d6390974",
   "metadata": {},
   "outputs": [],
   "source": []
  }
 ],
 "metadata": {
  "kernelspec": {
   "display_name": "Python 3 (ipykernel)",
   "language": "python",
   "name": "python3"
  },
  "language_info": {
   "codemirror_mode": {
    "name": "ipython",
    "version": 3
   },
   "file_extension": ".py",
   "mimetype": "text/x-python",
   "name": "python",
   "nbconvert_exporter": "python",
   "pygments_lexer": "ipython3",
   "version": "3.8.3"
  }
 },
 "nbformat": 4,
 "nbformat_minor": 5
}
