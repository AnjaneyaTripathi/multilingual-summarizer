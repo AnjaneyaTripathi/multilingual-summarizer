{
 "cells": [
  {
   "cell_type": "markdown",
   "id": "861e3ab2",
   "metadata": {},
   "source": [
    "##### pip install requests"
   ]
  },
  {
   "cell_type": "code",
   "execution_count": 2,
   "id": "8a32806a",
   "metadata": {},
   "outputs": [],
   "source": [
    "import os\n",
    "import requests\n",
    "import json\n",
    "import csv  "
   ]
  },
  {
   "cell_type": "code",
   "execution_count": 3,
   "id": "fa6a6201",
   "metadata": {},
   "outputs": [],
   "source": [
    "def getBearerToken():\n",
    "    return os.environ.get(\"BEARER_TOKEN\")"
   ]
  },
  {
   "cell_type": "code",
   "execution_count": 4,
   "id": "07c8f9a2",
   "metadata": {},
   "outputs": [],
   "source": [
    "def getTwitterData(queries):\n",
    "    newsdata=[]\n",
    "    bearer_token = getBearerToken()\n",
    "    for query in queries:\n",
    "        json_response = search_twitter(query=query['name'], max_results=query['number'], bearer_token = bearer_token)\n",
    "        data = json_response['data']\n",
    "        users = json_response['includes']['users']\n",
    "        for i in range(len(data)):\n",
    "            text = data[i]['text']\n",
    "            lang = data[i]['lang']\n",
    "            date = data[i]['created_at'][:10]\n",
    "            username = ''\n",
    "            for user in users:\n",
    "                if user['id'] == data[i]['author_id']:\n",
    "                    username = user['name']\n",
    "            row = [query['name'],query['name'], text, date, username, 'Twitter', 'Twitter', lang]\n",
    "            newsdata.append(row)\n",
    "    return newsdata"
   ]
  },
  {
   "cell_type": "code",
   "execution_count": 6,
   "id": "4e03e36b",
   "metadata": {},
   "outputs": [],
   "source": [
    "def search_twitter(query, max_results, bearer_token, language = 'en'):\n",
    "    headers = {\"Authorization\": \"Bearer {}\".format(bearer_token)}\n",
    "    query = query + ' lang:en '\n",
    "    url = \"https://api.twitter.com/2/tweets/search/recent?query={} -is:retweet&max_results={}&expansions=author_id&tweet.fields=text,author_id,created_at,lang&user.fields=name,username\".format(query, max_results)\n",
    "    response = requests.request(\"GET\", url, headers=headers)\n",
    "\n",
    "    if response.status_code != 200:\n",
    "        raise Exception(response.status_code, response.text)\n",
    "    return response.json()"
   ]
  }
 ],
 "metadata": {
  "kernelspec": {
   "display_name": "Python 3 (ipykernel)",
   "language": "python",
   "name": "python3"
  },
  "language_info": {
   "codemirror_mode": {
    "name": "ipython",
    "version": 3
   },
   "file_extension": ".py",
   "mimetype": "text/x-python",
   "name": "python",
   "nbconvert_exporter": "python",
   "pygments_lexer": "ipython3",
   "version": "3.8.3"
  }
 },
 "nbformat": 4,
 "nbformat_minor": 5
}
