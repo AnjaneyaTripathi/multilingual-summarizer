{
 "cells": [
  {
   "cell_type": "code",
   "execution_count": 2,
   "metadata": {},
   "outputs": [],
   "source": [
    "import requests"
   ]
  },
  {
   "cell_type": "code",
   "execution_count": 1,
   "metadata": {},
   "outputs": [],
   "source": [
    "def getNewsData():\n",
    "    data = []\n",
    "    topics = ['bitcoin', 'dogecoin','cryptography']\n",
    "    for i in topics:\n",
    "        response = requests.get(\"https://newsapi.org/v2/everything?q=\"+i+\"&apiKey=c43076e2fdb04245b667a7c680c2392c\")\n",
    "        jsonData = response.json()['articles']\n",
    "        for j in range(len(jsonData)):\n",
    "            item = []\n",
    "            item.append(i)\n",
    "            item.append(jsonData[j]['title'])\n",
    "            item.append(jsonData[j]['description'])\n",
    "            item.append(jsonData[j]['publishedAt'])\n",
    "            item.append(jsonData[j]['author'])\n",
    "            item.append('newsApi')\n",
    "            item.append(jsonData[j]['source']['name'])\n",
    "            item.append('english')\n",
    "            data.append(item)\n",
    "        response = requests.get(\"https://newsdata.io/api/1/news?apikey=pub_3670012a612fbd0323fb7905f843767e6a3c&q=social\")\n",
    "        jsonData = response.json()['results']\n",
    "        for j in range(len(jsonData)):\n",
    "            item = []\n",
    "            item.append(i)\n",
    "            item.append(jsonData[j]['title'])\n",
    "            item.append(jsonData[j]['description'])\n",
    "            item.append(jsonData[j]['publishedAt'])\n",
    "            item.append(jsonData[j]['creator'])\n",
    "            item.append('news Data API')\n",
    "            item.append(jsonData[j]['source_id'])\n",
    "            item.append('english')\n",
    "            data.append(item)\n",
    "        return data"
   ]
  },
  {
   "cell_type": "code",
   "execution_count": null,
   "metadata": {},
   "outputs": [],
   "source": []
  }
 ],
 "metadata": {
  "kernelspec": {
   "display_name": "Python 3",
   "language": "python",
   "name": "python3"
  },
  "language_info": {
   "codemirror_mode": {
    "name": "ipython",
    "version": 3
   },
   "file_extension": ".py",
   "mimetype": "text/x-python",
   "name": "python",
   "nbconvert_exporter": "python",
   "pygments_lexer": "ipython3",
   "version": "3.8.3"
  }
 },
 "nbformat": 4,
 "nbformat_minor": 4
}
