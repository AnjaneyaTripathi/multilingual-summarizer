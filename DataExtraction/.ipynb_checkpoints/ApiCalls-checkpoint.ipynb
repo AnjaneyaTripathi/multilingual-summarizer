{
 "cells": [
  {
   "cell_type": "code",
   "execution_count": 2,
   "metadata": {},
   "outputs": [
    {
     "name": "stdout",
     "output_type": "stream",
     "text": [
      "Collecting nbimporter\n",
      "  Downloading nbimporter-0.3.4-py3-none-any.whl (4.9 kB)\n",
      "Installing collected packages: nbimporter\n",
      "Successfully installed nbimporter-0.3.4\n",
      "Note: you may need to restart the kernel to use updated packages.\n"
     ]
    }
   ],
   "source": [
    "pip install nbimporter"
   ]
  },
  {
   "cell_type": "code",
   "execution_count": 2,
   "metadata": {},
   "outputs": [],
   "source": [
    "import nbimporter\n",
    "import Twitter as Twitter\n",
    "import NewsData as News"
   ]
  },
  {
   "cell_type": "code",
   "execution_count": 3,
   "metadata": {},
   "outputs": [],
   "source": [
    "def writeToCsv(data):\n",
    "    header = ['topic', 'title', 'text', 'author', 'source', 'channel', 'language']\n",
    "    with open('data.csv', 'w', encoding='UTF8') as f:\n",
    "        writer = csv.writer(f)\n",
    "        writer.writerow(header)\n",
    "        for i in range(len(data)):\n",
    "            writer.writerow(data[i])"
   ]
  },
  {
   "cell_type": "code",
   "execution_count": 4,
   "metadata": {},
   "outputs": [],
   "source": [
    "def appendData(temp_data, data):\n",
    "    for datum in temp_data:\n",
    "        data.append(datum)"
   ]
  },
  {
   "cell_type": "code",
   "execution_count": 6,
   "metadata": {},
   "outputs": [],
   "source": [
    "queries = [{\"name\":'bitcoin', \"number\": 10}, {\"name\":'cryptography', \"number\": 10}, {\"name\":'dogecoin', \"number\": 10}]\n",
    "fdata = []\n",
    "tweets = Twitter.getTwitterData(queries)\n",
    "news = News.getNewsData()\n",
    "appendData(tweets, fdata)\n",
    "appendData(news,fdata)\n",
    "\n",
    "# Call functions for other so\n",
    "writeToCsv(fdata)"
   ]
  },
  {
   "cell_type": "code",
   "execution_count": null,
   "metadata": {},
   "outputs": [],
   "source": []
  }
 ],
 "metadata": {
  "kernelspec": {
   "display_name": "Python 3",
   "language": "python",
   "name": "python3"
  },
  "language_info": {
   "codemirror_mode": {
    "name": "ipython",
    "version": 3
   },
   "file_extension": ".py",
   "mimetype": "text/x-python",
   "name": "python",
   "nbconvert_exporter": "python",
   "pygments_lexer": "ipython3",
   "version": "3.8.3"
  }
 },
 "nbformat": 4,
 "nbformat_minor": 5
}
